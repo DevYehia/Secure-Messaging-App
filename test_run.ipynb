{
 "cells": [
  {
   "cell_type": "code",
   "execution_count": 36,
   "metadata": {},
   "outputs": [
    {
     "data": {
      "text/plain": [
       "<module 'sender' from 'a:\\\\Ain Shams\\\\Academic\\\\Semester 9 Fall 2024\\\\CSE451 Computer and Network Security\\\\Project\\\\repo\\\\Secure-Messaging-App\\\\sender.py'>"
      ]
     },
     "execution_count": 36,
     "metadata": {},
     "output_type": "execute_result"
    }
   ],
   "source": [
    "import importlib\n",
    "import hashlib\n",
    "import receiver # import gen_aes_key, elgamal_encrypt, aes_decrypt\n",
    "import sender # import elgamal_keygen, elgamal_decrypt, aes_encrypt\n",
    "importlib.reload(receiver)\n",
    "importlib.reload(sender)"
   ]
  },
  {
   "cell_type": "markdown",
   "metadata": {},
   "source": [
    "# 1) Sender generate public+private Elgamal Key, and public+private RSA key\n"
   ]
  },
  {
   "cell_type": "code",
   "execution_count": 37,
   "metadata": {},
   "outputs": [],
   "source": [
    "(sender_elgamal_public_p,sender_elgamal_public_g,sender_elgamal_public_y), sender_elgamal_private = sender.elgamal_keygen()\n",
    "sender_RSA_public, sender_RSA_private = sender.generate_rsa_keys()"
   ]
  },
  {
   "cell_type": "code",
   "execution_count": 38,
   "metadata": {},
   "outputs": [
    {
     "data": {
      "text/plain": [
       "22445622597937175099087980002194291921512755574999096774160047761912329648835"
      ]
     },
     "execution_count": 38,
     "metadata": {},
     "output_type": "execute_result"
    }
   ],
   "source": [
    "sender_elgamal_private"
   ]
  },
  {
   "cell_type": "code",
   "execution_count": 39,
   "metadata": {},
   "outputs": [
    {
     "data": {
      "text/plain": [
       "(81159869763859104704902805864554706907994671739269514779254652557673574309373,\n",
       " 20836739152337504219785357336163377408086265246853342662316004100451198910671,\n",
       " 60229812477074072082687540485044723899221467695480121016080619628127603480579)"
      ]
     },
     "execution_count": 39,
     "metadata": {},
     "output_type": "execute_result"
    }
   ],
   "source": [
    "sender_elgamal_public_p,sender_elgamal_public_g,sender_elgamal_public_y"
   ]
  },
  {
   "cell_type": "markdown",
   "metadata": {},
   "source": [
    "# 2) Sender publish public gamal key and public RSA key"
   ]
  },
  {
   "cell_type": "code",
   "execution_count": 40,
   "metadata": {},
   "outputs": [],
   "source": [
    "# sender publish public elgamal and RSA keys"
   ]
  },
  {
   "cell_type": "markdown",
   "metadata": {},
   "source": [
    "# 3) Receiver Generates AES Key"
   ]
  },
  {
   "cell_type": "code",
   "execution_count": 41,
   "metadata": {},
   "outputs": [
    {
     "data": {
      "text/plain": [
       "b'\\xe1\\xed\\x026R\\xb3\\xc1\\x1c!hw\\xab\\x13L\\x80\\x9f'"
      ]
     },
     "execution_count": 41,
     "metadata": {},
     "output_type": "execute_result"
    }
   ],
   "source": [
    "receiver_aes_key=receiver.gen_aes_key();\n",
    "receiver_aes_key"
   ]
  },
  {
   "cell_type": "markdown",
   "metadata": {},
   "source": [
    "# 4) Receiver Sends AES Key encrypted with elgamal"
   ]
  },
  {
   "cell_type": "code",
   "execution_count": 42,
   "metadata": {},
   "outputs": [
    {
     "name": "stdout",
     "output_type": "stream",
     "text": [
      "300306918275813889087642041879553147039\n",
      "(71203614604016133841187143428042878750772012639198408766185844983733133133877, 691570504958382825868406197960881678433276333564216331735791928537377159845)\n"
     ]
    }
   ],
   "source": [
    "print(int.from_bytes(receiver_aes_key))\n",
    "receiver_aes_encrypted = receiver.elgamal_encrypt((sender_elgamal_public_p,sender_elgamal_public_g,sender_elgamal_public_y),int.from_bytes(receiver_aes_key))\n",
    "print(receiver_aes_encrypted)\n",
    "#send to sender"
   ]
  },
  {
   "cell_type": "markdown",
   "metadata": {},
   "source": [
    "# 5) Sender encrypt chat messages with AES + make SHA-256 hash of message"
   ]
  },
  {
   "cell_type": "code",
   "execution_count": 43,
   "metadata": {},
   "outputs": [
    {
     "name": "stdout",
     "output_type": "stream",
     "text": [
      "300306918275813889087642041879553147039\n",
      "b'\\xe1\\xed\\x026R\\xb3\\xc1\\x1c!hw\\xab\\x13L\\x80\\x9f'\n",
      "644237e3726e65b12cf5da5a74199df0e622740569600875b151c6cb231c7672\n"
     ]
    }
   ],
   "source": [
    "# sender decrypts aes key\n",
    "receiver_aes_decrypted_at_sender = sender.elgamal_decrypt(sender_elgamal_private,(sender_elgamal_public_p,sender_elgamal_public_g,sender_elgamal_public_y),receiver_aes_encrypted)\n",
    "print(receiver_aes_decrypted_at_sender)\n",
    "receiver_aes_decrypted_at_sender_bytes = receiver_aes_decrypted_at_sender.to_bytes(length=16,byteorder='big') # receiver_aes_decrypted_at_sender.to_bytes((receiver_aes_decrypted_at_sender.bit_length() + 7) // 8, 'big')\n",
    "\n",
    "# # Ensure the key is exactly 16 bytes long\n",
    "# if len(receiver_aes_decrypted_at_sender_bytes) < 16:\n",
    "#     # Pad with zero bytes to make it 16 bytes\n",
    "#     receiver_aes_decrypted_at_sender_bytes = receiver_aes_decrypted_at_sender_bytes.rjust(16, b'\\x00')\n",
    "# elif len(receiver_aes_decrypted_at_sender_bytes) > 16:\n",
    "#     # Truncate to the first 16 bytes\n",
    "#     receiver_aes_decrypted_at_sender_bytes = receiver_aes_decrypted_at_sender_bytes[:16]\n",
    "print(receiver_aes_decrypted_at_sender_bytes)\n",
    "sender_message = \"Message from sender\"\n",
    "sender_AES_encrypted_message = sender.aes_encrypt(receiver_aes_decrypted_at_sender_bytes,sender_message)\n",
    "sender_message_bytes = sender_message.encode()\n",
    "_SHA256_Hash = hashlib.sha256()\n",
    "_SHA256_Hash.update(sender_message_bytes)\n",
    "sender_message_bytes_SHA256_hashed = _SHA256_Hash.hexdigest()\n",
    "print(sender_message_bytes_SHA256_hashed)"
   ]
  },
  {
   "cell_type": "markdown",
   "metadata": {},
   "source": [
    "# 6) Sender signs hashed with private RSA + send to receiver"
   ]
  },
  {
   "cell_type": "code",
   "execution_count": 44,
   "metadata": {},
   "outputs": [],
   "source": [
    "sender_message_bytes_SHA256_hashed_RSA_signed = sender.rsa_sign(sender_RSA_private,sender_message_bytes_SHA256_hashed)\n",
    "\n",
    "# send sender_AES_encrypted_message, sender_message_bytes_SHA256_hashed_RSA_signed  to receiver"
   ]
  },
  {
   "cell_type": "markdown",
   "metadata": {},
   "source": [
    "# 7) Receiver uses AES to decrypt message"
   ]
  },
  {
   "cell_type": "code",
   "execution_count": 45,
   "metadata": {},
   "outputs": [],
   "source": [
    "receiver_AES_decrypted_msg = receiver.aes_decrypt(receiver_aes_key,sender_AES_encrypted_message)"
   ]
  },
  {
   "cell_type": "markdown",
   "metadata": {},
   "source": [
    "# 8) Receiver uses RSA to verify that the message is sent by the sender"
   ]
  },
  {
   "cell_type": "code",
   "execution_count": 46,
   "metadata": {},
   "outputs": [],
   "source": [
    "receiver_RSA_verified_hashed_msg = receiver.rsa_verify(sender_RSA_public,sender_message_bytes_SHA256_hashed_RSA_signed)\n",
    "\n"
   ]
  },
  {
   "cell_type": "markdown",
   "metadata": {},
   "source": [
    "# 8) Receiver verifies hash and decrypts with AES"
   ]
  },
  {
   "cell_type": "code",
   "execution_count": 47,
   "metadata": {},
   "outputs": [
    {
     "name": "stdout",
     "output_type": "stream",
     "text": [
      "644237e3726e65b12cf5da5a74199df0e622740569600875b151c6cb231c7672\n",
      "644237e3726e65b12cf5da5a74199df0e622740569600875b151c6cb231c7672\n",
      "True\n"
     ]
    }
   ],
   "source": [
    "receiver_AES_decrypted_msg_bytes = receiver_AES_decrypted_msg.encode()\n",
    "_SHA256_Hash = hashlib.sha256()\n",
    "_SHA256_Hash.update(receiver_AES_decrypted_msg_bytes)\n",
    "receiver_AES_decrypted_msg_bytes_SHA256_hashed = _SHA256_Hash.hexdigest()\n",
    "\n",
    "# receiver_received_msg = receiver.aes_decrypt(receiver_aes_key,sender_encrypted_message)\n",
    "print(receiver_AES_decrypted_msg_bytes_SHA256_hashed)\n",
    "print(receiver_RSA_verified_hashed_msg)\n",
    "print(receiver_RSA_verified_hashed_msg == receiver_AES_decrypted_msg_bytes_SHA256_hashed)"
   ]
  },
  {
   "cell_type": "code",
   "execution_count": 48,
   "metadata": {},
   "outputs": [
    {
     "data": {
      "text/plain": [
       "'Message from sender'"
      ]
     },
     "execution_count": 48,
     "metadata": {},
     "output_type": "execute_result"
    }
   ],
   "source": [
    "receiver_AES_decrypted_msg"
   ]
  }
 ],
 "metadata": {
  "kernelspec": {
   "display_name": "Python 3",
   "language": "python",
   "name": "python3"
  },
  "language_info": {
   "codemirror_mode": {
    "name": "ipython",
    "version": 3
   },
   "file_extension": ".py",
   "mimetype": "text/x-python",
   "name": "python",
   "nbconvert_exporter": "python",
   "pygments_lexer": "ipython3",
   "version": "3.11.1"
  }
 },
 "nbformat": 4,
 "nbformat_minor": 2
}
